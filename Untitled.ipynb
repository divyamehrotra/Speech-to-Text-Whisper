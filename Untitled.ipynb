{
 "cells": [
  {
   "cell_type": "code",
   "execution_count": 2,
   "id": "569d1c87-257b-4664-8131-c6dd6712fa19",
   "metadata": {},
   "outputs": [
    {
     "name": "stdout",
     "output_type": "stream",
     "text": [
      "Loading Whisper model...\n"
     ]
    },
    {
     "data": {
      "text/plain": [
       "'GUI started! You can interact with the window.'"
      ]
     },
     "metadata": {},
     "output_type": "display_data"
    }
   ],
   "source": [
    "import tkinter as tk\n",
    "from tkinter import filedialog\n",
    "import torch\n",
    "from transformers import WhisperProcessor, WhisperForConditionalGeneration\n",
    "import librosa\n",
    "import threading  # To prevent GUI from freezing in Jupyter\n",
    "from IPython.display import display\n",
    "\n",
    "# Function to load the Whisper model\n",
    "def load_whisper_model():\n",
    "    print(\"Loading Whisper model...\")\n",
    "    model_name = \"openai/whisper-small\"\n",
    "    processor = WhisperProcessor.from_pretrained(model_name)\n",
    "    model = WhisperForConditionalGeneration.from_pretrained(model_name)\n",
    "    model.eval()\n",
    "    print(\"Model loaded successfully!\")\n",
    "    return processor, model\n",
    "\n",
    "# Function to transcribe audio\n",
    "def transcribe_audio(file_path, processor, model):\n",
    "    print(f\"Transcribing file: {file_path}\")\n",
    "    audio, sr = librosa.load(file_path, sr=16000)\n",
    "    input_features = processor(audio, sampling_rate=16000, return_tensors=\"pt\").input_features\n",
    "    with torch.no_grad():\n",
    "        predicted_ids = model.generate(input_features)\n",
    "    transcription = processor.batch_decode(predicted_ids, skip_special_tokens=True)[0]\n",
    "    print(f\"Transcription: {transcription}\")\n",
    "    return transcription\n",
    "\n",
    "# Function to upload and transcribe file\n",
    "def upload_file():\n",
    "    file_path = filedialog.askopenfilename(filetypes=[(\"Audio Files\", \"*.wav;*.mp3;*.flac\")])\n",
    "    if file_path:\n",
    "        transcription_label.config(text=\"Processing...\")\n",
    "        root.update()\n",
    "        transcription = transcribe_audio(file_path, processor, model)\n",
    "        transcription_label.config(text=f\"Transcription: {transcription}\")\n",
    "\n",
    "# Run the Tkinter GUI in a separate thread\n",
    "def run_gui():\n",
    "    global root, transcription_label, processor, model\n",
    "\n",
    "    # Load model\n",
    "    processor, model = load_whisper_model()\n",
    "\n",
    "    # GUI setup\n",
    "    root = tk.Tk()\n",
    "    root.title(\"Speech-to-Text Whisper App\")\n",
    "    root.geometry(\"500x300\")\n",
    "\n",
    "    frame = tk.Frame(root)\n",
    "    frame.pack(pady=20)\n",
    "\n",
    "    upload_button = tk.Button(frame, text=\"Upload Audio File\", command=upload_file, padx=20, pady=10)\n",
    "    upload_button.pack()\n",
    "\n",
    "    transcription_label = tk.Label(root, text=\"Upload an audio file to transcribe\", wraplength=450, justify=\"left\")\n",
    "    transcription_label.pack(pady=20)\n",
    "\n",
    "    print(\"Running GUI...\")\n",
    "    root.mainloop()\n",
    "\n",
    "# Run GUI in a separate thread so Jupyter doesn't freeze\n",
    "threading.Thread(target=run_gui, daemon=True).start()\n",
    "\n",
    "# Display a message in Jupyter Notebook\n",
    "display(\"GUI started! You can interact with the window.\")\n",
    "\n"
   ]
  },
  {
   "cell_type": "code",
   "execution_count": null,
   "id": "342dd60c-5bfc-4319-ac70-3811316233fb",
   "metadata": {},
   "outputs": [],
   "source": []
  }
 ],
 "metadata": {
  "kernelspec": {
   "display_name": "Python 3 (ipykernel)",
   "language": "python",
   "name": "python3"
  },
  "language_info": {
   "codemirror_mode": {
    "name": "ipython",
    "version": 3
   },
   "file_extension": ".py",
   "mimetype": "text/x-python",
   "name": "python",
   "nbconvert_exporter": "python",
   "pygments_lexer": "ipython3",
   "version": "3.12.7"
  }
 },
 "nbformat": 4,
 "nbformat_minor": 5
}
